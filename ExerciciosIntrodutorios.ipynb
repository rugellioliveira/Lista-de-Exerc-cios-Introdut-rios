{
  "nbformat": 4,
  "nbformat_minor": 0,
  "metadata": {
    "colab": {
      "provenance": [],
      "authorship_tag": "ABX9TyPvwgzQhd1pNw/tpdstqqfj",
      "include_colab_link": true
    },
    "kernelspec": {
      "name": "python3",
      "display_name": "Python 3"
    },
    "language_info": {
      "name": "python"
    }
  },
  "cells": [
    {
      "cell_type": "markdown",
      "metadata": {
        "id": "view-in-github",
        "colab_type": "text"
      },
      "source": [
        "<a href=\"https://colab.research.google.com/github/rugellioliveira/Lista-de-Exercicios-Introdutorios/blob/main/ExerciciosIntrodutorios.ipynb\" target=\"_parent\"><img src=\"https://colab.research.google.com/assets/colab-badge.svg\" alt=\"Open In Colab\"/></a>"
      ]
    },
    {
      "cell_type": "markdown",
      "source": [
        "Escreva um programa que mostre a mensagem 'Hello World!' na tela."
      ],
      "metadata": {
        "id": "Xws8UzmQKkQM"
      }
    },
    {
      "cell_type": "code",
      "execution_count": null,
      "metadata": {
        "colab": {
          "base_uri": "https://localhost:8080/"
        },
        "id": "unMtInI_M9dT",
        "outputId": "65df4001-21cf-44ba-d9e0-d1c033676285"
      },
      "outputs": [
        {
          "output_type": "stream",
          "name": "stdout",
          "text": [
            "Hello World\n"
          ]
        }
      ],
      "source": [
        "#Exercício 01\n",
        "print('Hello World')"
      ]
    },
    {
      "cell_type": "markdown",
      "source": [
        "Faça um programa que solicite um número do usuário e apresente a seguinte mensagem na tela:\n",
        "\n",
        "\"O número digitado foi [número]\"."
      ],
      "metadata": {
        "id": "v-JbFE_K5qK-"
      }
    },
    {
      "cell_type": "code",
      "source": [
        "#Exercício 02\n",
        "numero = input('Digite um número: ')\n",
        "print('O número digitado foi: ', numero)"
      ],
      "metadata": {
        "colab": {
          "base_uri": "https://localhost:8080/"
        },
        "id": "dysiLmVhNWpF",
        "outputId": "ebfb4ca6-b3d6-48f0-b410-1d8d8374bf20"
      },
      "execution_count": null,
      "outputs": [
        {
          "output_type": "stream",
          "name": "stdout",
          "text": [
            "Digite um número: 2\n",
            "O número digitado foi:  2\n"
          ]
        }
      ]
    },
    {
      "cell_type": "markdown",
      "source": [
        "Escreva um programa que solicite o nome e o sobrenome do usuário. Ao final o programa deverá apresentar o nome completo do usuário na tela."
      ],
      "metadata": {
        "id": "gmLz11rpKw2C"
      }
    },
    {
      "cell_type": "code",
      "source": [
        "#Exercício 03:\n",
        "nome = input('Digite o primeiro nome: ').strip().title()\n",
        "sobrenome = input('Digite o sobrenome: ').strip().title()\n",
        "\n",
        "print(nome + ' ' + sobrenome)"
      ],
      "metadata": {
        "colab": {
          "base_uri": "https://localhost:8080/"
        },
        "id": "UwE4fH6TOIzW",
        "outputId": "025208e9-79aa-420e-8df4-72f708cd349c"
      },
      "execution_count": null,
      "outputs": [
        {
          "output_type": "stream",
          "name": "stdout",
          "text": [
            "Digite o primeiro nome: José\n",
            "Digite o sobrenome: Silva\n",
            "José Silva\n"
          ]
        }
      ]
    },
    {
      "cell_type": "markdown",
      "source": [
        "Faça um programa que solicite três números inteiros do usuário e imprima a soma destes."
      ],
      "metadata": {
        "id": "EGK90m_9K23b"
      }
    },
    {
      "cell_type": "code",
      "source": [
        "# Exercício 04:\n",
        "num1 = int(input('Número1: '))\n",
        "num2 = int(input('Número2: '))\n",
        "num3 = int(input('Número3: '))\n",
        "print(f'{num1} + {num2} + {num3} = {num1+num2+num3}')"
      ],
      "metadata": {
        "colab": {
          "base_uri": "https://localhost:8080/"
        },
        "id": "GgzoLLoKPWWe",
        "outputId": "645d9a43-2459-47d7-b584-a7867293ec32"
      },
      "execution_count": null,
      "outputs": [
        {
          "output_type": "stream",
          "name": "stdout",
          "text": [
            "Número1: 1\n",
            "Número2: 2\n",
            "Número3: 3\n",
            "1 + 2 + 3 = 6\n"
          ]
        }
      ]
    },
    {
      "cell_type": "markdown",
      "source": [
        "Escreva um programa que solicite duas notas do usuário e apresente a média na tela da seguinte forma:\n",
        "\n",
        "\"A média das notas [nota1] e [nota2] é [média]\""
      ],
      "metadata": {
        "id": "YgLayl4fK-Fr"
      }
    },
    {
      "cell_type": "code",
      "source": [
        "#Exercício 05:\n",
        "nota1 = float(input('Nota1: '))\n",
        "nota2 = float(input('Nota2: '))\n",
        "\n",
        "print('A média das notas ', nota1, ' e ', nota2, ' é ', (nota1+nota2)/2)"
      ],
      "metadata": {
        "colab": {
          "base_uri": "https://localhost:8080/"
        },
        "id": "Myi6afp0SW11",
        "outputId": "3f5d8612-0275-489e-b95e-05c7fb63e597"
      },
      "execution_count": null,
      "outputs": [
        {
          "output_type": "stream",
          "name": "stdout",
          "text": [
            "Nota1: 4\n",
            "Nota2: 6\n",
            "A média das notas  4.0  e  6.0  é  5.0\n"
          ]
        }
      ]
    },
    {
      "cell_type": "markdown",
      "source": [
        "Faça um programa que calcule a raiz quadrada de um número. O usuário deve inserir um número e o programa deve mostrar na tela o resultado da raiz quadrada do número inserido."
      ],
      "metadata": {
        "id": "VtoDXLj_LD0j"
      }
    },
    {
      "cell_type": "code",
      "source": [
        "#Exercício 06:\n",
        "num = float(input('Digite um número: '))\n",
        "print('A raiz quadrada do número ', num, ' é ', num**(1/2))"
      ],
      "metadata": {
        "colab": {
          "base_uri": "https://localhost:8080/"
        },
        "id": "xf6jChU9TPnO",
        "outputId": "c1d59def-521d-4c47-b85a-6f16a3e3c876"
      },
      "execution_count": null,
      "outputs": [
        {
          "output_type": "stream",
          "name": "stdout",
          "text": [
            "Digite um número: 2\n",
            "A raiz quadrada do número  2.0  é  1.4142135623730951\n"
          ]
        }
      ]
    },
    {
      "cell_type": "markdown",
      "source": [
        "Faça um programa que peça 5 números de ponto flutuante do usuário e apresente no final a média dos números digitados."
      ],
      "metadata": {
        "id": "jG1aBm6RLISj"
      }
    },
    {
      "cell_type": "code",
      "source": [
        "#Exercício 07:\n",
        "num1 = float(input('Digite o número 1: '))\n",
        "num2 = float(input('Digite o número 2: '))\n",
        "num3 = float(input('Digite o número 3: '))\n",
        "num4 = float(input('Digite o número 4: '))\n",
        "num5 = float(input('Digite o número 5: '))\n",
        "media = (num1+num2+num3+num4+num5)/5\n",
        "print('A média dos cinco números é: ', media)"
      ],
      "metadata": {
        "colab": {
          "base_uri": "https://localhost:8080/"
        },
        "id": "7uw7vXmNT7DW",
        "outputId": "e85ed2ce-8c5a-448e-f7b1-779a42d030df"
      },
      "execution_count": null,
      "outputs": [
        {
          "output_type": "stream",
          "name": "stdout",
          "text": [
            "Digite o número 1: 1\n",
            "Digite o número 2: 2\n",
            "Digite o número 3: 3\n",
            "Digite o número 4: 4\n",
            "Digite o número 5: 5\n",
            "A média dos cinco números é:  3.0\n"
          ]
        }
      ]
    },
    {
      "cell_type": "markdown",
      "source": [
        "Escreva um programa que faça a conversão de um dado valor de metro para quilômetro."
      ],
      "metadata": {
        "id": "sveudCCpLgGg"
      }
    },
    {
      "cell_type": "code",
      "source": [
        "#Exercício 8:\n",
        "valor = float(input('Digite o valor em metros: '))\n",
        "quilometro = valor/1000\n",
        "print(valor,' metros equivale a ', quilometro, ' km')"
      ],
      "metadata": {
        "colab": {
          "base_uri": "https://localhost:8080/"
        },
        "id": "vx5Ah-ofUwbW",
        "outputId": "630fa60a-d79c-413a-b267-bb015cac6e16"
      },
      "execution_count": null,
      "outputs": [
        {
          "output_type": "stream",
          "name": "stdout",
          "text": [
            "Digite o valor em metros: 100\n",
            "O valor convertido para quilômetros é:  0.1  km\n"
          ]
        }
      ]
    },
    {
      "cell_type": "markdown",
      "source": [
        "Escreva um programa que calcule a área de uma circunferência. O usuário deve digitar o valor do raio e ao final o programa deverá mostrar na tela a área da circunferência.\n",
        "\n",
        "Use a fórmula: área=pi*r² , em que pi é uma constante e r o raio da circunferência.\n",
        "\n",
        "Dica: você pode usar a biblioteca math para pegar a constante pi."
      ],
      "metadata": {
        "id": "Lz4g7HcBLl7s"
      }
    },
    {
      "cell_type": "code",
      "source": [
        "#Exercício 09:\n",
        "from math import pi\n",
        "raio = float(input('Digite o valor do raio da circunferência: '))\n",
        "print(f'A área da circunferência é: {round(pi*raio**2,2)}')\n"
      ],
      "metadata": {
        "colab": {
          "base_uri": "https://localhost:8080/"
        },
        "id": "_OPurW-gVYak",
        "outputId": "63df5fbd-a14a-4945-dc8c-827eca7e9ea3"
      },
      "execution_count": null,
      "outputs": [
        {
          "output_type": "stream",
          "name": "stdout",
          "text": [
            "Digite o valor do raio da circunferência: 2\n",
            "A área da circunferência é: 12.57\n"
          ]
        }
      ]
    },
    {
      "cell_type": "markdown",
      "source": [
        "Faça um programa que peça uma temperatura em Fahrenheit (F) e converta esta temperatura para grau Celsius (C), mostrando o resultado da conversão na tela.\n",
        "\n",
        "Use a fórmula: C = 5 * ((F-32) / 9)."
      ],
      "metadata": {
        "id": "i9v2HjlhLqbT"
      }
    },
    {
      "cell_type": "code",
      "source": [
        "#Exercício 10:\n",
        "farenheit = float(input(\"Digite a temperatura em Farenheit: \"))\n",
        "celcius = 5 * ((farenheit-32)/9)\n",
        "print(f'A temperatura {round(farenheit,2)} °F equivale a {round(celcius,2)} °C')"
      ],
      "metadata": {
        "colab": {
          "base_uri": "https://localhost:8080/"
        },
        "id": "qsWPSOJBWlPL",
        "outputId": "c20da8a1-4daa-45f0-c7c0-6afb126c847e"
      },
      "execution_count": null,
      "outputs": [
        {
          "output_type": "stream",
          "name": "stdout",
          "text": [
            "Digite a temperatura em Farenheit: 10\n",
            "A temperatura 10.0 °F equivale a -12.22 °C\n"
          ]
        }
      ]
    },
    {
      "cell_type": "markdown",
      "source": [
        "Escreva um programa que peça dois números e apresente a divisão e multiplicação entre eles. A tela de apresentação deverá seguir o seguinte formato:\n",
        "\n",
        "\"[número1]x[número2]=[multiplicação]\"\n",
        "\n",
        "\"[número1]/[número2]=[divisão]\""
      ],
      "metadata": {
        "id": "4QuxmSeoLvON"
      }
    },
    {
      "cell_type": "code",
      "source": [
        "#Exercício 11:\n",
        "num1 = float(input(\"Digite o número 1: \"))\n",
        "num2 = float(input(\"Digite o número 2: \"))\n",
        "multiplicacao = num1 * num2\n",
        "divisao = num1 / num2\n",
        "print(f'A multiplicação é: {num1} x {num2} = {round(multiplicacao,2)} \\nA divisão é: {num1} / {num2} = {round(divisao,2)}')"
      ],
      "metadata": {
        "colab": {
          "base_uri": "https://localhost:8080/"
        },
        "id": "_H3xOSdCXr2P",
        "outputId": "a4cfef7b-51b0-4635-a456-0e9ee31b9cf5"
      },
      "execution_count": null,
      "outputs": [
        {
          "output_type": "stream",
          "name": "stdout",
          "text": [
            "Digite o número 1: 2\n",
            "Digite o número 2: 2\n",
            "A multiplicação é: 2.0 x 2.0 = 4.0 \n",
            "A divisão é: 2.0 / 2.0 = 1.0\n"
          ]
        }
      ]
    },
    {
      "cell_type": "markdown",
      "source": [
        "Escreva um programa que receba o nome, sobrenome e idade do usuário e apresente a seguinte mensagem na tela:\n",
        "\n",
        "\"Seja bem-vindo [nome] [sobrenome].\"\n",
        "\n",
        "\"Você possui [idade] anos de idade.\"\n",
        "\n",
        "No campo nome e sobrenome utilize os métodos strip() e title(). Lembre-se que o primeiro método permite remover os espaços antes e depois da string, enquanto que o último permite colocar a string no formato titlecased (capitaliza a string)."
      ],
      "metadata": {
        "id": "lXYB4g0lLynQ"
      }
    },
    {
      "cell_type": "code",
      "source": [
        "#Exercício 12:\n",
        "nome = input('Digite seu nome: ')\n",
        "sobrenome = input('Digite seu sobrenome: ')\n",
        "idade = int(input('Digite sua idade: '))\n",
        "print(f'Seja bem-vindo {nome.strip().title()} {sobrenome.strip().title()}')\n",
        "print(f'Você possui {idade} anos de idade')"
      ],
      "metadata": {
        "colab": {
          "base_uri": "https://localhost:8080/"
        },
        "id": "W-OQTI2CZQCu",
        "outputId": "88071bf1-fdfc-4317-b4ac-4b9f8604a730"
      },
      "execution_count": null,
      "outputs": [
        {
          "output_type": "stream",
          "name": "stdout",
          "text": [
            "Digite seu nome: José\n",
            "Digite seu sobrenome: Silva\n",
            "Digite sua idade: 10\n",
            "Seja bem-vindo José Silva\n",
            "Você possui 10 anos de idade\n"
          ]
        }
      ]
    },
    {
      "cell_type": "markdown",
      "source": [
        "Escreva um programa que peça um número do usuário via método input e converta esse número para o formato float."
      ],
      "metadata": {
        "id": "wUT6gcOSL2jV"
      }
    },
    {
      "cell_type": "code",
      "source": [
        "#Exercício 13:\n",
        "numero = input('Digite um número: ')\n",
        "numero = float(numero)\n",
        "print(type(numero))"
      ],
      "metadata": {
        "colab": {
          "base_uri": "https://localhost:8080/"
        },
        "id": "FoUr_EUlalcV",
        "outputId": "30fbbb6c-6861-491c-818b-9ed9bb02d491"
      },
      "execution_count": null,
      "outputs": [
        {
          "output_type": "stream",
          "name": "stdout",
          "text": [
            "Digite um número: 12\n",
            "<class 'float'>\n"
          ]
        }
      ]
    },
    {
      "cell_type": "markdown",
      "source": [
        "Escreva um programa que peça o nome e a idade do usuário. Caso a idade do usuário seja maior ou igual a 18 anos apresente a seguinte mensagem: \"Seja bem-vindo ao nosso site [nome]!\"; caso contrário, apresente a seguinte mensagem: \"Você não pode acessar nosso site [nome].\"."
      ],
      "metadata": {
        "id": "6KZPGi2fL6nl"
      }
    },
    {
      "cell_type": "code",
      "source": [
        "#Exercício 14:\n",
        "nome = input('Digite seu nome: ')\n",
        "idade = int(input('Digite sua idade: '))\n",
        "\n",
        "if idade >= 18:\n",
        "  print(f'Seja bem-vindo ao nosso site {nome.strip().title()}')\n",
        "else:\n",
        "  print(f'Você não pode acessar nosso site {nome.strip().title()}')\n"
      ],
      "metadata": {
        "colab": {
          "base_uri": "https://localhost:8080/"
        },
        "id": "dP65Iw9mucFH",
        "outputId": "867b95fc-2ea2-4211-ff68-e52b1123c845"
      },
      "execution_count": null,
      "outputs": [
        {
          "output_type": "stream",
          "name": "stdout",
          "text": [
            "Digite seu nome: José\n",
            "Digite sua idade: 12\n",
            "Você não pode acessar nosso site José\n"
          ]
        }
      ]
    },
    {
      "cell_type": "markdown",
      "source": [
        "Elabore um programa para calcular a hipotenusa de um triângulo.\n",
        "\n",
        "Dicas:\n",
        "\n",
        "Veja o módulo math (math.hypot)\n",
        "\n",
        "Utilize a seguinte fórmula: hipotenusa=(a²+b²)¹/2:"
      ],
      "metadata": {
        "id": "Ar_axb7tL-zH"
      }
    },
    {
      "cell_type": "code",
      "source": [
        "#Exercício 15\n",
        "from math import hypot\n",
        "cateto_oposto = float(input('Digite o cateto oposto: '))\n",
        "cateto_adjacente = float(input('Digite o cateto adjacente: '))\n",
        "hipotenusa1 = (((cateto_oposto**2)+(cateto_adjacente**2))**(1/2))\n",
        "hipotenusa2 = hypot(cateto_oposto, cateto_adjacente)\n",
        "\n",
        "print(f'Hipotenusa: {hipotenusa1}')\n",
        "print(f'Hipotenusa: {hipotenusa2}')"
      ],
      "metadata": {
        "colab": {
          "base_uri": "https://localhost:8080/"
        },
        "id": "O63Ekmt_vOCH",
        "outputId": "4d866b38-3672-42d7-af95-2945ad770b77"
      },
      "execution_count": null,
      "outputs": [
        {
          "output_type": "stream",
          "name": "stdout",
          "text": [
            "Digite o cateto oposto: 5\n",
            "Digite o cateto adjacente: 4\n",
            "Hipotenusa: 6.4031242374328485\n",
            "Hipotenusa: 6.4031242374328485\n"
          ]
        }
      ]
    },
    {
      "cell_type": "markdown",
      "source": [
        "Faça um programa que recebe um número inteiro do usuário e calcule o fatorial deste número.\n",
        "Dica: utilize o módulo math do Python, especificamente math.fatorial."
      ],
      "metadata": {
        "id": "ojS9vFdkMEu1"
      }
    },
    {
      "cell_type": "code",
      "source": [
        "#Exercício 16\n",
        "import math\n",
        "num = int(input('Digite o número: '))\n",
        "fatorial1 = math.factorial(num)\n",
        "\n",
        "print(f'O fatorial de {num} é {fatorial1}')\n",
        "\n",
        "#Usando loop\n",
        "n = num\n",
        "fatorial2 = 1\n",
        "while n>0:\n",
        "  fatorial2 = fatorial2 * n\n",
        "  n-=1\n",
        "\n",
        "print(f'O fatorial de {num} é {fatorial2}')\n"
      ],
      "metadata": {
        "colab": {
          "base_uri": "https://localhost:8080/"
        },
        "id": "4dL5-HkIwWEY",
        "outputId": "ea0d56e8-cbb1-4b27-ea41-517d5955c055"
      },
      "execution_count": null,
      "outputs": [
        {
          "output_type": "stream",
          "name": "stdout",
          "text": [
            "Digite o número: 5\n",
            "O fatorial de 5 é 120\n",
            "O fatorial de 5 é 120\n"
          ]
        }
      ]
    },
    {
      "cell_type": "markdown",
      "source": [
        "Escreva um programa que peça um número do usuário e calcule o logaritmo deste número nas bases 10 e 2.\n",
        "\n",
        "Dica: utilize o módulo math."
      ],
      "metadata": {
        "id": "R1IGz5qmMH1o"
      }
    },
    {
      "cell_type": "code",
      "source": [
        "#Exercício 17\n",
        "import math\n",
        "num = float(input('Digite o número: '))\n",
        "log1 = math.log10(num)\n",
        "log2 = math.log(num, 2)\n",
        "print(f'O log de {num} na base 10 é {log1}')\n",
        "print(f'O log de {num} na base 2 é {log2}')"
      ],
      "metadata": {
        "colab": {
          "base_uri": "https://localhost:8080/"
        },
        "id": "W0FGeUdQy8dt",
        "outputId": "1c2e5c44-168a-4843-c884-2f2176644958"
      },
      "execution_count": null,
      "outputs": [
        {
          "output_type": "stream",
          "name": "stdout",
          "text": [
            "Digite o número: 10\n",
            "O log de 10.0 na base 10 é 1.0\n",
            "O log de 10.0 na base 2 é 3.3219280948873626\n"
          ]
        }
      ]
    },
    {
      "cell_type": "markdown",
      "source": [
        "Faça um programa que peça a base e a altura de um retângulo e calcule e mostre na tela a área e o perímetro."
      ],
      "metadata": {
        "id": "F57s-wEPMK5M"
      }
    },
    {
      "cell_type": "code",
      "source": [
        "#Exercício 18\n",
        "base = float(input('Digite o valor da base: '))\n",
        "altura = float(input('Digite o valor da altura: '))\n",
        "area = base*altura/2\n",
        "perimetro = 2*base + 2*altura\n",
        "\n",
        "print(f'O triângulo tem base {base}m e altura {altura}m')\n",
        "print(f'A área do triângulo é: {area}m^2')\n",
        "print(f'O perímetro do triângulo é: {perimetro}m')"
      ],
      "metadata": {
        "colab": {
          "base_uri": "https://localhost:8080/"
        },
        "id": "QvvzhdAyzpX4",
        "outputId": "f730f9c0-63c2-45dd-b44f-f22c1f5c9781"
      },
      "execution_count": null,
      "outputs": [
        {
          "output_type": "stream",
          "name": "stdout",
          "text": [
            "Digite o valor da base: 2\n",
            "Digite o valor da altura: 2\n",
            "O triângulo tem base 2.0m e altura 2.0m\n",
            "A área do triângulo é: 2.0m^2\n",
            "O perímetro do triângulo é: 8.0m\n"
          ]
        }
      ]
    },
    {
      "cell_type": "markdown",
      "source": [
        "Escreva um programa que solicite o nome, o sobrenome e o salário atual de um funcionário. Ao fim, calcule seu novo salário considerando cenários hipotéticos, com os seguintes aumentos: 10%, 25%,30% e 50%. A mensagem na tela deverá seguir o seguinte padrão:\n",
        "\n",
        "\"Olá, [nome] [sobrenome]\"\n",
        "\n",
        "\"Seu salário atual é : [salário]\"\n",
        "\n",
        "\"Seu salário com 10% de aumento é: [salário]\"\n",
        "\n",
        "\"Seu salário com 25% de aumento é: [salário]\"\n",
        "\n",
        "\"Seu salário com 30% de aumento é: [salário]\"\n",
        "\n",
        "\"Seu salário com 50% de aumento é: [salário]\"\n",
        "\n",
        "No campo nome e sobrenome utilize os métodos strip() e title(). Lembre-se que o primeiro método permite remover os espaços antes e após a string, enquanto que o último permite colocar a string no formato titlecased (capitaliza string)."
      ],
      "metadata": {
        "id": "QsPWClsGMOoL"
      }
    },
    {
      "cell_type": "code",
      "source": [
        "#Exercício 19\n",
        "nome = input('Digite o nome: ')\n",
        "sobrenome = input('Digite o sobrenome: ')\n",
        "salario = float(input('Digite o salário: '))\n",
        "print(f'Olá, {nome} {sobrenome}')\n",
        "print(f'Seu salário atual é: R${salario}')\n",
        "print(f'Seu salário com 10% de aumento é: R${round(salario*1.1,2)}')\n",
        "print(f'Seu salário com 25% de aumento é: R${round(salario*1.25,2)}')\n",
        "print(f'Seu salário com 30% de aumento é: R${round(salario*1.3,2)}')\n",
        "print(f'Seu salário com 50% de aumento é: R${round(salario*1.5,2)}')"
      ],
      "metadata": {
        "colab": {
          "base_uri": "https://localhost:8080/"
        },
        "id": "ymZmeG8t0iJB",
        "outputId": "742373f9-a5ad-4cbe-ba93-b20f0a640c96"
      },
      "execution_count": null,
      "outputs": [
        {
          "output_type": "stream",
          "name": "stdout",
          "text": [
            "Digite o nome: José \n",
            "Digite o sobrenome: Silva\n",
            "Digite o salário: 2500\n",
            "Olá, José  Silva\n",
            "Seu salário atual é: R$2500.0\n",
            "Seu salário com 10% de aumento é: R$2750.0\n",
            "Seu salário com 25% de aumento é: R$3125.0\n",
            "Seu salário com 30% de aumento é: R$3250.0\n",
            "Seu salário com 50% de aumento é: R$3750.0\n"
          ]
        }
      ]
    },
    {
      "cell_type": "markdown",
      "source": [
        "Escreva um programa que peça um número inteiro do usuário e calcule e imprima a tabuada deste número."
      ],
      "metadata": {
        "id": "wHYyWANYMXF6"
      }
    },
    {
      "cell_type": "code",
      "source": [
        "#Exercício 20\n",
        "num = int(input('Digite um número inteiro: \\n'))\n",
        "print(f'A tabuada do número {num} é: ')\n",
        "for n in range(11):\n",
        "  print(f'{num} x {n} = {num*n}')"
      ],
      "metadata": {
        "colab": {
          "base_uri": "https://localhost:8080/"
        },
        "id": "lsPpm1qe1056",
        "outputId": "a39f9d06-8721-4dca-e64c-403a8f13e080"
      },
      "execution_count": null,
      "outputs": [
        {
          "output_type": "stream",
          "name": "stdout",
          "text": [
            "Digite um número inteiro: \n",
            "5\n",
            "A tabuada do número 5 é: \n",
            "5 x 0 = 0\n",
            "5 x 1 = 5\n",
            "5 x 2 = 10\n",
            "5 x 3 = 15\n",
            "5 x 4 = 20\n",
            "5 x 5 = 25\n",
            "5 x 6 = 30\n",
            "5 x 7 = 35\n",
            "5 x 8 = 40\n",
            "5 x 9 = 45\n",
            "5 x 10 = 50\n"
          ]
        }
      ]
    },
    {
      "cell_type": "markdown",
      "source": [
        "Faça um programa que solicite um número inteiro e mostre o seu valor absoluto. Dica: use a função built-in abs()."
      ],
      "metadata": {
        "id": "VnxyDywfMaVl"
      }
    },
    {
      "cell_type": "code",
      "source": [
        "#Exercício 21\n",
        "num = int(input('Digite um valor inteiro: '))\n",
        "print(f'O valor absoluto do número {num} é {abs(num)}')"
      ],
      "metadata": {
        "colab": {
          "base_uri": "https://localhost:8080/"
        },
        "id": "zRLBSGu62kyw",
        "outputId": "c1a6b032-b45a-4817-b1ad-9c4a44861ce1"
      },
      "execution_count": null,
      "outputs": [
        {
          "output_type": "stream",
          "name": "stdout",
          "text": [
            "Digite um valor inteiro: -5\n",
            "O valor absoluto do número -5 é 5\n"
          ]
        }
      ]
    },
    {
      "cell_type": "markdown",
      "source": [
        "Faça um programa que peça uma string ao usuário e mostre na tela a quantidade de caracteres.\n",
        "\n",
        "Dica: use a função built-in len() e trate a string com o método strip()."
      ],
      "metadata": {
        "id": "UwYqfe7ZMdY1"
      }
    },
    {
      "cell_type": "code",
      "source": [
        "#Exercício 22\n",
        "string = input('Digite algo: ')\n",
        "print(f'Você digitou {len(string)} caracteres')"
      ],
      "metadata": {
        "colab": {
          "base_uri": "https://localhost:8080/"
        },
        "id": "T_NlUkRv24TJ",
        "outputId": "cc83878b-80a4-4f41-86b6-4a9ce162b508"
      },
      "execution_count": null,
      "outputs": [
        {
          "output_type": "stream",
          "name": "stdout",
          "text": [
            "Digite algo: teste\n",
            "Você digitou 5 caracteres\n"
          ]
        }
      ]
    },
    {
      "cell_type": "markdown",
      "source": [
        "Escreva um programa que peça um número inteiro do usuário e mostre se esse número é par ou ímpar. A mensagem na tela deverá seguir o seguinte formato:\n",
        "\n",
        "\"O número [número] é [par/ímpar]\""
      ],
      "metadata": {
        "id": "2GuRtNXHMgnn"
      }
    },
    {
      "cell_type": "code",
      "source": [
        "#Exercício 23\n",
        "num = int(input('Digite um número: '))\n",
        "if num % 2 == 0:\n",
        "  print(f'O número {num} é par')\n",
        "else:\n",
        "  print(f'O número {num} é ímpar')"
      ],
      "metadata": {
        "colab": {
          "base_uri": "https://localhost:8080/"
        },
        "id": "7isdy-8_3P1j",
        "outputId": "572f9fae-7c1c-4be4-81b3-a174d348422d"
      },
      "execution_count": null,
      "outputs": [
        {
          "output_type": "stream",
          "name": "stdout",
          "text": [
            "Digite um número: 3\n",
            "O número 3 é ímpar\n"
          ]
        }
      ]
    },
    {
      "cell_type": "markdown",
      "source": [
        "O Índice de Massa Corporal (IMC) é utilizado para mensurar o peso ideal de uma pessoa. Escreva um programa que peça o nome, a idade , o peso e a altura do usuário. Ao final calcule e mostre o resultado do seu IMC e classifique este resultado de acordo com a regra a seguir.\n",
        "\n",
        "IMC<17 - Muito abaixo do peso ideal\n",
        "\n",
        "17<=IMC<18,5 - Abaixo do peso\n",
        "\n",
        "18,5<=IMC<25 - Peso normal\n",
        "\n",
        "25<=IMC<30 - Acima do peso\n",
        "\n",
        "30<=IMC<35 - Obesidade I\n",
        "\n",
        "35<=IMC<40 - Obesidade II (severa)\n",
        "\n",
        "IMC>=40 - Obesidade III (mórbida)\n",
        "\n",
        "Lembre que: IMC=massa/(altura*altura)"
      ],
      "metadata": {
        "id": "G1mSgGs6Mj5U"
      }
    },
    {
      "cell_type": "code",
      "source": [
        "#Exercício 24\n",
        "print('Cálculo do IMC')\n",
        "altura=float(input('Insira sua altura : \\n'))\n",
        "peso=float(input('Insira seu peso : \\n'))\n",
        "imc=peso/(altura**2)\n",
        "print('Processando seus dados...')\n",
        "if imc<17:\n",
        "    print('Muito abaixo do peso.')\n",
        "elif 17<=imc<18.5:\n",
        "    print('Abaixo do peso.')\n",
        "elif 18.5<=imc<25:\n",
        "    print('Peso normal.')\n",
        "elif 25<=imc<30:\n",
        "    print('Acima do peso.')\n",
        "elif 30<=imc<35:\n",
        "    print('Obesidade Grau I.')\n",
        "elif 35<=imc<40:\n",
        "    print('Obesidade Grau II (severa).')\n",
        "else:\n",
        "    print('Obesidade Grau III (mórbida).')\n"
      ],
      "metadata": {
        "colab": {
          "base_uri": "https://localhost:8080/"
        },
        "id": "0P_bsQL_3xVg",
        "outputId": "6489bcbd-620e-4d95-e674-5d954586c9b7"
      },
      "execution_count": null,
      "outputs": [
        {
          "output_type": "stream",
          "name": "stdout",
          "text": [
            "Cálculo do IMC\n",
            "Insira sua altura : \n",
            "1.50\n",
            "Insira seu peso : \n",
            "45\n",
            "Processando seus dados...\n",
            "Peso normal.\n"
          ]
        }
      ]
    },
    {
      "cell_type": "markdown",
      "source": [
        "Escreva um programa que receba dois números de ponto flutuante e mostre na tela o maior número digitado. Considere a possibilidade de o usuário digitar dois números iguais."
      ],
      "metadata": {
        "id": "edjMJR07MruK"
      }
    },
    {
      "cell_type": "code",
      "source": [
        "#Exercício 25:\n",
        "n1 = float(input('Digite o número 1: '))\n",
        "n2 = float(input('Digite o número 2: '))\n",
        "if n1 > n2:\n",
        "  print(f'{n1} é maior que {n2}')\n",
        "elif n1 < n2:\n",
        "  print(f'{n2} é maior que {n1}')\n",
        "else:\n",
        "  print(f'{n1} é igual a {n2}')"
      ],
      "metadata": {
        "colab": {
          "base_uri": "https://localhost:8080/"
        },
        "id": "1ernAfJZ4Mva",
        "outputId": "f359fa5b-4dd3-4e08-c861-b4546e74ac0b"
      },
      "execution_count": null,
      "outputs": [
        {
          "output_type": "stream",
          "name": "stdout",
          "text": [
            "Digite o número 1: 4\n",
            "Digite o número 2: 5\n",
            "5.0 é maior que 4.0\n"
          ]
        }
      ]
    },
    {
      "cell_type": "markdown",
      "source": [
        "Escreva um programa que verifique se um determinado número digitado pelo usuário é nulo, positivo ou negativo."
      ],
      "metadata": {
        "id": "gGUBf2oYMuV_"
      }
    },
    {
      "cell_type": "code",
      "source": [
        "#Exercício 26:\n",
        "num = float(input('Digite um número: '))\n",
        "if num > 0:\n",
        "  print('O número é positivo')\n",
        "elif num < 0:\n",
        "  print('O número é negativo')\n",
        "else:\n",
        "  print('O número é nulo')"
      ],
      "metadata": {
        "colab": {
          "base_uri": "https://localhost:8080/"
        },
        "id": "xrOOaACH3M-k",
        "outputId": "7cfd8a54-5ac6-40c2-8b29-3ed9c15a84f0"
      },
      "execution_count": null,
      "outputs": [
        {
          "output_type": "stream",
          "name": "stdout",
          "text": [
            "Digite um número: 0\n",
            "O número é nulo\n"
          ]
        }
      ]
    },
    {
      "cell_type": "markdown",
      "source": [
        "Escreva um programa que receba três números do usuário e mostre na tela o maior número digitado."
      ],
      "metadata": {
        "id": "oqCMwobOMweC"
      }
    },
    {
      "cell_type": "code",
      "source": [
        "#Exercício 27\n",
        "num1 = float(input('Digite um número: '))\n",
        "num2 = float(input('Digite um número: '))\n",
        "num3 = float(input('Digite um número: '))\n",
        "\n",
        "if num1 >= num2 and num1 >= num3:\n",
        "  print(f'Maior número é: {num1}')\n",
        "elif num2 >= num1 and num2 >= num3:\n",
        "  print(f'Maior número é: {num2}')\n",
        "else:\n",
        "  print(f'Maior número é: {num3}')"
      ],
      "metadata": {
        "colab": {
          "base_uri": "https://localhost:8080/"
        },
        "id": "6hOssCLc3wfy",
        "outputId": "49e3ac9e-c58a-45d3-81da-3bf807c28212"
      },
      "execution_count": null,
      "outputs": [
        {
          "output_type": "stream",
          "name": "stdout",
          "text": [
            "Digite um número: 1\n",
            "Digite um número: 5\n",
            "Digite um número: 9\n",
            "Maior número é: 9.0\n"
          ]
        }
      ]
    },
    {
      "cell_type": "markdown",
      "source": [
        "Escreva um programa que gere um número aleatório entre 1 e 100 e mostre na tela.\n",
        "\n",
        "Dica: utilize o módulo random."
      ],
      "metadata": {
        "id": "erPg_uFFMzZ6"
      }
    },
    {
      "cell_type": "code",
      "source": [
        "#Exercício 28\n",
        "import random\n",
        "num = random.randint(1, 100)\n",
        "print(num)"
      ],
      "metadata": {
        "colab": {
          "base_uri": "https://localhost:8080/"
        },
        "id": "e6UgvCOg4nCl",
        "outputId": "7cdf9c86-f06f-4adc-eb0c-215b49992ced"
      },
      "execution_count": null,
      "outputs": [
        {
          "output_type": "stream",
          "name": "stdout",
          "text": [
            "47\n"
          ]
        }
      ]
    },
    {
      "cell_type": "markdown",
      "source": [
        "Elabore um progama para verificar se um ano é bissexto ou não. A condição para ser um ano bissexto é: o ano deve ser divisível por 400; ou se for divisível por 4 e não for divisível por 100."
      ],
      "metadata": {
        "id": "0MNYuW6-M2KE"
      }
    },
    {
      "cell_type": "code",
      "source": [
        "#Exercício 29\n",
        "ano = int(input('Ano: '))\n",
        "if ano % 400 == 0 or (ano % 4 == 0 and ano % 100 != 0):\n",
        "  print(f'O ano {ano} é bissexto!')\n",
        "else:\n",
        "  print(f'O ano {ano} não é bissexto!')"
      ],
      "metadata": {
        "colab": {
          "base_uri": "https://localhost:8080/"
        },
        "id": "28Oq_MMQ49BS",
        "outputId": "2aaf7bbb-9d90-4a2a-abe7-6cc7fee9bdcd"
      },
      "execution_count": null,
      "outputs": [
        {
          "output_type": "stream",
          "name": "stdout",
          "text": [
            "Ano: 20022\n",
            "O ano 20022 não é bissexto!\n"
          ]
        }
      ]
    },
    {
      "cell_type": "markdown",
      "source": [
        "Elabore um programa para calcular o tamanho de uma string."
      ],
      "metadata": {
        "id": "28SFc60QM5jq"
      }
    },
    {
      "cell_type": "code",
      "source": [
        "#Exercício 30\n",
        "string = input('Digite algo: ')\n",
        "print(f'Tamanho da string é: {len(string)}')"
      ],
      "metadata": {
        "colab": {
          "base_uri": "https://localhost:8080/"
        },
        "id": "ZK5jyDDr6pcW",
        "outputId": "fe78df20-fda1-406c-ab69-3e849609dfa9"
      },
      "execution_count": null,
      "outputs": [
        {
          "output_type": "stream",
          "name": "stdout",
          "text": [
            "Digite algo: teste 2\n",
            "Tamanho da string é: 7\n"
          ]
        }
      ]
    },
    {
      "cell_type": "markdown",
      "source": [
        "Utilize o módulo datetime e mostre na tela a data e hora atual do sistema de acordo com o formato descrito abaixo."
      ],
      "metadata": {
        "id": "JqNqlqt3NB2K"
      }
    },
    {
      "cell_type": "code",
      "source": [
        "#Exercício 31\n",
        "import datetime\n",
        "data_atual = datetime.datetime.now()\n",
        "print(data_atual.strftime('%d/%m/%Y - %H:%M:%S'))"
      ],
      "metadata": {
        "colab": {
          "base_uri": "https://localhost:8080/"
        },
        "id": "LlZhKM1H7RZi",
        "outputId": "6e03c2a2-06bb-4243-941a-9e6c3cebae88"
      },
      "execution_count": null,
      "outputs": [
        {
          "output_type": "stream",
          "name": "stdout",
          "text": [
            "20/06/2023 - 17:51:50\n"
          ]
        }
      ]
    },
    {
      "cell_type": "markdown",
      "source": [
        "Escreva um programa que inverta uma string. Exemplos:\n",
        "\n",
        "Hello World!\n",
        "\n",
        "Python\n",
        "\n",
        "!dlroW olleH\n",
        "\n",
        "nohtyP"
      ],
      "metadata": {
        "id": "s55A8VagNGcb"
      }
    },
    {
      "cell_type": "code",
      "source": [
        "#Exercício 32\n",
        "string1 = 'Hello World!'\n",
        "string2 = 'Python'\n",
        "print(string1)\n",
        "print(string2)\n",
        "print(string1[::-1])\n",
        "print(string2[::-1])"
      ],
      "metadata": {
        "colab": {
          "base_uri": "https://localhost:8080/"
        },
        "id": "1TXTddJe8Tk9",
        "outputId": "9c9bf822-3a55-46e7-c62e-779bca312228"
      },
      "execution_count": null,
      "outputs": [
        {
          "output_type": "stream",
          "name": "stdout",
          "text": [
            "Hello World!\n",
            "Python\n",
            "!dlroW olleH\n",
            "nohtyP\n"
          ]
        }
      ]
    },
    {
      "cell_type": "markdown",
      "source": [
        "Escreva um programa para mostrar na tela o calendário do mês de dezembro de 2020. Exemplo:\n",
        "\n",
        "![image.png](data:image/png;base64,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)\n",
        "\n",
        "Dica: importe o módulo calendar."
      ],
      "metadata": {
        "id": "GoG0JLb0NTj6"
      }
    },
    {
      "cell_type": "code",
      "source": [
        "#Exercício 33\n",
        "import calendar\n",
        "print(calendar.month(2020,12))"
      ],
      "metadata": {
        "colab": {
          "base_uri": "https://localhost:8080/"
        },
        "id": "opMy0C2x83La",
        "outputId": "e12339f3-f56b-4287-dbfe-1e8253b559a9"
      },
      "execution_count": null,
      "outputs": [
        {
          "output_type": "stream",
          "name": "stdout",
          "text": [
            "   December 2020\n",
            "Mo Tu We Th Fr Sa Su\n",
            "    1  2  3  4  5  6\n",
            " 7  8  9 10 11 12 13\n",
            "14 15 16 17 18 19 20\n",
            "21 22 23 24 25 26 27\n",
            "28 29 30 31\n",
            "\n"
          ]
        }
      ]
    },
    {
      "cell_type": "markdown",
      "source": [
        "Modifique o programa anterior e permita que o usuário especifique o ano e o mês a serem mostrados na tela."
      ],
      "metadata": {
        "id": "A1WaPy4VNn5L"
      }
    },
    {
      "cell_type": "code",
      "source": [
        "#Exercício 34\n",
        "import calendar\n",
        "mes = int(input('Digite o mês:'))\n",
        "ano = int(input('Digite o ano: '))\n",
        "\n",
        "print(calendar.month(ano, mes))"
      ],
      "metadata": {
        "colab": {
          "base_uri": "https://localhost:8080/"
        },
        "id": "y-WADpSW92_k",
        "outputId": "edec7062-67de-4d1b-abc4-3b086ef1dc5d"
      },
      "execution_count": null,
      "outputs": [
        {
          "output_type": "stream",
          "name": "stdout",
          "text": [
            "Digite o mês:12\n",
            "Digite o ano: 2020\n",
            "   December 2020\n",
            "Mo Tu We Th Fr Sa Su\n",
            "    1  2  3  4  5  6\n",
            " 7  8  9 10 11 12 13\n",
            "14 15 16 17 18 19 20\n",
            "21 22 23 24 25 26 27\n",
            "28 29 30 31\n",
            "\n"
          ]
        }
      ]
    },
    {
      "cell_type": "markdown",
      "source": [
        "Escreva um script que mostre na tela o preço de um produto associado a uma categoria especificada pelo usuário. Utilize como referência as informações a seguir. Caso o usuário não digite uma categoria válida (número entre 1 e 10) mostre na tela uma mensagem personalizada.\n",
        "\n",
        "![image.png](data:image/png;base64,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)"
      ],
      "metadata": {
        "id": "YqjqPtm4NsbU"
      }
    },
    {
      "cell_type": "code",
      "source": [
        "#Exercício 35\n",
        "categoria = int(input())\n",
        "\n",
        "if categoria==1:\n",
        "    print('O preço do produto é: $ 0.5')\n",
        "elif categoria==2:\n",
        "    print('O preço do produto é: $ 11.3')\n",
        "elif categoria==3:\n",
        "    print('O preço do produto é: $ 17.5')\n",
        "elif categoria==4:\n",
        "    print('O preço do produto é: $ 33.97')\n",
        "elif categoria==5:\n",
        "    print('O preço do produto é: $ 103.47')\n",
        "elif categoria==6:\n",
        "    print('O preço do produto é: $ 44.67')\n",
        "elif categoria==7:\n",
        "    print('O preço do produto é: $ 12.55')\n",
        "elif categoria==8:\n",
        "    print('O preço do produto é: $ 14.87')\n",
        "elif categoria==9:\n",
        "    print('O preço do produto é: $ 98.12')\n",
        "elif categoria==10:\n",
        "    print('O preço do produto é: $ 131.4')\n",
        "else:\n",
        "    print('Opção inválida.')\n"
      ],
      "metadata": {
        "colab": {
          "base_uri": "https://localhost:8080/"
        },
        "id": "nSuKLrB4-tq8",
        "outputId": "f3c1b580-f608-4534-a463-964ff4208e2b"
      },
      "execution_count": null,
      "outputs": [
        {
          "output_type": "stream",
          "name": "stdout",
          "text": [
            "1\n",
            "O preço do produto é: $ 0.5\n"
          ]
        }
      ]
    },
    {
      "cell_type": "markdown",
      "source": [
        "Resolva o exercício anterior para as categorias de 1 a 8. Utilize estruturas aninhadas."
      ],
      "metadata": {
        "id": "1BIMVcQXNz_t"
      }
    },
    {
      "cell_type": "code",
      "source": [
        "#Exercício 36\n",
        "categoria=int(input('Categoria do produto: '))\n",
        "if categoria==1:\n",
        "    print('Preço: $ 0.5')\n",
        "else:\n",
        "    if categoria==2:\n",
        "        print('Preço: $ 11.35')\n",
        "    else:\n",
        "        if categoria==3:\n",
        "            print('Preço: $ 17.5')\n",
        "        else:\n",
        "            if categoria==4:\n",
        "                print('Preço: $ 33.97')\n",
        "            else:\n",
        "                if categoria==5:\n",
        "                    print('Preço: $ 103.47')\n",
        "                else:\n",
        "                    if categoria==6:\n",
        "                        print('Preço: $ 44.67')\n",
        "                    else:\n",
        "                        if categoria==7:\n",
        "                            print('Preço: $ 12.55')\n",
        "                        else:\n",
        "                            if categoria==8:\n",
        "                                print('Preço: $ 14.87')\n",
        "                            else:\n",
        "                                print('Categoria inválida.')"
      ],
      "metadata": {
        "colab": {
          "base_uri": "https://localhost:8080/"
        },
        "id": "k3bclrda_3T7",
        "outputId": "4fb9897c-89a4-467e-ae26-634494279142"
      },
      "execution_count": null,
      "outputs": [
        {
          "output_type": "stream",
          "name": "stdout",
          "text": [
            "Categoria do produto: 5\n",
            "Preço: $ 103.47\n"
          ]
        }
      ]
    },
    {
      "cell_type": "markdown",
      "source": [
        "Determine se uma letra inserida pelo usuário é uma vogal ou consoante. Armazene as vogais em uma lista e implemente sua solução. Desconsidere a possibilidade de o usuário inserir números ou caracteres especiais."
      ],
      "metadata": {
        "id": "i4oNZYicN4Db"
      }
    },
    {
      "cell_type": "code",
      "source": [
        "#Exercício 37\n",
        "letra = input('Digite uma letra: ')\n",
        "vogais = ['a', 'e', 'i', 'o', 'u']\n",
        "if letra in vogais:\n",
        "  print(f'A letra {letra} é uma vogal')\n",
        "else:\n",
        "  print(f'A letra {letra} é uma consoante')"
      ],
      "metadata": {
        "colab": {
          "base_uri": "https://localhost:8080/"
        },
        "id": "x5oco_BHAFWz",
        "outputId": "c5e70c44-29a0-469e-ef89-83f1dfc14b8e"
      },
      "execution_count": null,
      "outputs": [
        {
          "output_type": "stream",
          "name": "stdout",
          "text": [
            "Digite uma letra: i\n",
            "A letra i é uma vogal\n"
          ]
        }
      ]
    },
    {
      "cell_type": "markdown",
      "source": [
        "Escreva um script para classificar um triângulo de acordo com o tamanho dos seus lados. Considere as seguintes informações:\n",
        "\n",
        "Triângulo equilátero: todos os lados possuem o mesmo tamanho;\n",
        "\n",
        "Trângulo escaleno: todos os lados possuem medidas diferentes;\n",
        "\n",
        "Triângulo isósceles: caracterizado por ter dois lados com o mesmo tamanho."
      ],
      "metadata": {
        "id": "N8fCCyo5N6-r"
      }
    },
    {
      "cell_type": "code",
      "source": [
        "#Exercício 38\n",
        "ladoA = float(input('Digite o valor do Lado A: '))\n",
        "ladoB = float(input('Digite o valor do Lado B: '))\n",
        "ladoC = float(input('Digite o valor do Lado C: '))\n",
        "\n",
        "if ladoA == ladoB == ladoC:\n",
        "  print('O triânglo é equilatero')\n",
        "elif ladoA==ladoB or ladoA == ladoC or ladoB == ladoC:\n",
        "  print('O triângulo é isóceles')\n",
        "else:\n",
        "  print('O triângulo é escaleno')"
      ],
      "metadata": {
        "colab": {
          "base_uri": "https://localhost:8080/"
        },
        "id": "JjfL3neMA3SE",
        "outputId": "4726f2fd-586c-41a4-ef45-0c9f8007851a"
      },
      "execution_count": null,
      "outputs": [
        {
          "output_type": "stream",
          "name": "stdout",
          "text": [
            "Digite o valor do Lado A: 2\n",
            "Digite o valor do Lado B: 2\n",
            "Digite o valor do Lado C: 2\n",
            "O triânglo é equilatero\n"
          ]
        }
      ]
    },
    {
      "cell_type": "markdown",
      "source": [
        "Implemente uma calculadora simples com as operações aritméticas básicas. O usuário deverá especificar a operação desejada (+,-,*,/) e seguidamente inserir dois valores. Caso, o usuário escolha divisão e insira o valor do denominar 0 mostre uma mensagem personalizada. Para os demais casos, mostre na tela o resultado da operação desejada."
      ],
      "metadata": {
        "id": "lfVp_1WTOGde"
      }
    },
    {
      "cell_type": "code",
      "source": [
        "#Exercício 39\n",
        "operacao = input('Informe uma operação matemática: ')\n",
        "\n",
        "if operacao in ['+','-','*','/']:\n",
        " num1 = float(input(\"Digite o primeiro número: \"))\n",
        " num2 = float(input(\"Digite o segundo número: \"))\n",
        " if operacao == '+':\n",
        "  print(f'{num1} + {num2} = {num1+num2}')\n",
        " elif operacao == '-':\n",
        "  print(f'{num1} - {num2} = {num1-num2}')\n",
        " elif operacao == '*':\n",
        "  print(f'{num1} * {num2} = {num1*num2}')\n",
        " else:\n",
        "  if num2 == 0:\n",
        "    print('Em uma divisão o numerador não pode ser zero.')\n",
        "  else:\n",
        "    print(f'{num1} / {num2} = {num1/num2}')\n",
        "else:\n",
        "  print('Opção inválida3')\n",
        "\n",
        "\n"
      ],
      "metadata": {
        "colab": {
          "base_uri": "https://localhost:8080/"
        },
        "id": "uCrBtF7eB85_",
        "outputId": "8bd4c23a-a8cc-440b-93e9-4cdd16ffde94"
      },
      "execution_count": null,
      "outputs": [
        {
          "output_type": "stream",
          "name": "stdout",
          "text": [
            "Informe uma operação matemática: /\n",
            "Digite o primeiro número: 8\n",
            "Digite o segundo número: 0\n",
            "Em uma divisão o numerador não pode ser zero.\n"
          ]
        }
      ]
    },
    {
      "cell_type": "markdown",
      "source": [
        "Escreva um programa que mostre de 1 até 50 na tela."
      ],
      "metadata": {
        "id": "b8SBV4zCOKlL"
      }
    },
    {
      "cell_type": "code",
      "source": [
        "#Exercício 40\n",
        "for n in range(1,51):\n",
        "  print(n)"
      ],
      "metadata": {
        "colab": {
          "base_uri": "https://localhost:8080/"
        },
        "id": "azjO22PxE0rO",
        "outputId": "2d027d42-adf2-443c-cbc5-bf23209a18b7"
      },
      "execution_count": null,
      "outputs": [
        {
          "output_type": "stream",
          "name": "stdout",
          "text": [
            "1\n",
            "2\n",
            "3\n",
            "4\n",
            "5\n",
            "6\n",
            "7\n",
            "8\n",
            "9\n",
            "10\n",
            "11\n",
            "12\n",
            "13\n",
            "14\n",
            "15\n",
            "16\n",
            "17\n",
            "18\n",
            "19\n",
            "20\n",
            "21\n",
            "22\n",
            "23\n",
            "24\n",
            "25\n",
            "26\n",
            "27\n",
            "28\n",
            "29\n",
            "30\n",
            "31\n",
            "32\n",
            "33\n",
            "34\n",
            "35\n",
            "36\n",
            "37\n",
            "38\n",
            "39\n",
            "40\n",
            "41\n",
            "42\n",
            "43\n",
            "44\n",
            "45\n",
            "46\n",
            "47\n",
            "48\n",
            "49\n",
            "50\n"
          ]
        }
      ]
    },
    {
      "cell_type": "markdown",
      "source": [
        "Escreva um programa que mostre de 50 até 1 na tela."
      ],
      "metadata": {
        "id": "X9cN_EkHOPON"
      }
    },
    {
      "cell_type": "code",
      "source": [
        "#Exercício 41\n",
        "for n in range(50,0,-1):\n",
        "  print(n)"
      ],
      "metadata": {
        "colab": {
          "base_uri": "https://localhost:8080/"
        },
        "id": "FMGYEydoGVoc",
        "outputId": "f4f7fbe2-64ec-49e1-da80-855be80421a9"
      },
      "execution_count": null,
      "outputs": [
        {
          "output_type": "stream",
          "name": "stdout",
          "text": [
            "50\n",
            "49\n",
            "48\n",
            "47\n",
            "46\n",
            "45\n",
            "44\n",
            "43\n",
            "42\n",
            "41\n",
            "40\n",
            "39\n",
            "38\n",
            "37\n",
            "36\n",
            "35\n",
            "34\n",
            "33\n",
            "32\n",
            "31\n",
            "30\n",
            "29\n",
            "28\n",
            "27\n",
            "26\n",
            "25\n",
            "24\n",
            "23\n",
            "22\n",
            "21\n",
            "20\n",
            "19\n",
            "18\n",
            "17\n",
            "16\n",
            "15\n",
            "14\n",
            "13\n",
            "12\n",
            "11\n",
            "10\n",
            "9\n",
            "8\n",
            "7\n",
            "6\n",
            "5\n",
            "4\n",
            "3\n",
            "2\n",
            "1\n"
          ]
        }
      ]
    },
    {
      "cell_type": "markdown",
      "source": [
        "Escreva um programa que mostre de 150 até 200 na tela."
      ],
      "metadata": {
        "id": "mz-Y2Dx3OQOX"
      }
    },
    {
      "cell_type": "code",
      "source": [
        "#Exercício 42\n",
        "for n in range(150, 201):\n",
        "  print(n)"
      ],
      "metadata": {
        "colab": {
          "base_uri": "https://localhost:8080/"
        },
        "id": "V5T-lMPUT4te",
        "outputId": "e1b85858-8e61-4ffe-f198-2dbddb7e1960"
      },
      "execution_count": null,
      "outputs": [
        {
          "output_type": "stream",
          "name": "stdout",
          "text": [
            "150\n",
            "151\n",
            "152\n",
            "153\n",
            "154\n",
            "155\n",
            "156\n",
            "157\n",
            "158\n",
            "159\n",
            "160\n",
            "161\n",
            "162\n",
            "163\n",
            "164\n",
            "165\n",
            "166\n",
            "167\n",
            "168\n",
            "169\n",
            "170\n",
            "171\n",
            "172\n",
            "173\n",
            "174\n",
            "175\n",
            "176\n",
            "177\n",
            "178\n",
            "179\n",
            "180\n",
            "181\n",
            "182\n",
            "183\n",
            "184\n",
            "185\n",
            "186\n",
            "187\n",
            "188\n",
            "189\n",
            "190\n",
            "191\n",
            "192\n",
            "193\n",
            "194\n",
            "195\n",
            "196\n",
            "197\n",
            "198\n",
            "199\n",
            "200\n"
          ]
        }
      ]
    },
    {
      "cell_type": "markdown",
      "source": [
        "Escreva um programa de contagem regressiva, ou seja, imprima na tela o seguinte padrão numérico:"
      ],
      "metadata": {
        "id": "T5JzDo6qOTe8"
      }
    },
    {
      "cell_type": "code",
      "source": [
        "#Exercício 43\n",
        "for n in range(5,-1,-1):\n",
        "  print(n)"
      ],
      "metadata": {
        "colab": {
          "base_uri": "https://localhost:8080/"
        },
        "id": "IQ8pUZXiUfNW",
        "outputId": "bd099a56-71d0-4de9-aace-2329d1af70c5"
      },
      "execution_count": null,
      "outputs": [
        {
          "output_type": "stream",
          "name": "stdout",
          "text": [
            "5\n",
            "4\n",
            "3\n",
            "2\n",
            "1\n",
            "0\n"
          ]
        }
      ]
    },
    {
      "cell_type": "markdown",
      "source": [
        "Faça um programa que imprima na tela de 1 até um número digitado pelo usuário."
      ],
      "metadata": {
        "id": "yNr67d5dOj-b"
      }
    },
    {
      "cell_type": "code",
      "source": [
        "#Exercício 44\n",
        "num = int(input())\n",
        "for n in range(1, num + 1):\n",
        "  print(n)"
      ],
      "metadata": {
        "colab": {
          "base_uri": "https://localhost:8080/"
        },
        "id": "qm_6wHWXUuss",
        "outputId": "a4cfeee2-f499-4abe-ed37-4ea126831ad3"
      },
      "execution_count": null,
      "outputs": [
        {
          "output_type": "stream",
          "name": "stdout",
          "text": [
            "5\n",
            "1\n",
            "2\n",
            "3\n",
            "4\n",
            "5\n"
          ]
        }
      ]
    },
    {
      "cell_type": "markdown",
      "source": [
        "Escreva um programa que mostre na tela os 20 primeiros múltiplos de 5."
      ],
      "metadata": {
        "id": "CCB_aaCWOmpb"
      }
    },
    {
      "cell_type": "code",
      "source": [
        "#Exercício 45\n",
        "for n in range(1,21):\n",
        "  print(n*5)\n",
        "\n",
        "#OU\n",
        "print('\\n******************************************************************\\n')\n",
        "lista = []\n",
        "i = 1\n",
        "\n",
        "while len(lista) < 20:\n",
        "  if i % 5 == 0:\n",
        "    lista.append(i)\n",
        "    i+=1\n",
        "  else:\n",
        "    i+=1\n",
        "\n",
        "for n in lista:\n",
        "  print(n)\n",
        "\n"
      ],
      "metadata": {
        "colab": {
          "base_uri": "https://localhost:8080/"
        },
        "id": "jzaDlg16VOwG",
        "outputId": "d001e689-64f6-46c7-90f9-8c8d31d03cb2"
      },
      "execution_count": null,
      "outputs": [
        {
          "output_type": "stream",
          "name": "stdout",
          "text": [
            "5\n",
            "10\n",
            "15\n",
            "20\n",
            "25\n",
            "30\n",
            "35\n",
            "40\n",
            "45\n",
            "50\n",
            "55\n",
            "60\n",
            "65\n",
            "70\n",
            "75\n",
            "80\n",
            "85\n",
            "90\n",
            "95\n",
            "100\n",
            "\n",
            "******************************************************************\n",
            "\n",
            "5\n",
            "10\n",
            "15\n",
            "20\n",
            "25\n",
            "30\n",
            "35\n",
            "40\n",
            "45\n",
            "50\n",
            "55\n",
            "60\n",
            "65\n",
            "70\n",
            "75\n",
            "80\n",
            "85\n",
            "90\n",
            "95\n",
            "100\n"
          ]
        }
      ]
    },
    {
      "cell_type": "markdown",
      "source": [
        "Utilizando estruturas de repetição escreva um programa que mostre os resultados da tabuada (multiplicação) de um número inserido pelo usuário."
      ],
      "metadata": {
        "id": "B72wFgzTOszF"
      }
    },
    {
      "cell_type": "code",
      "source": [
        "#Exercício 46\n",
        "num = int(input())\n",
        "\n",
        "for n in range(11):\n",
        "  print(f'{num} x {n} = {num*n}')"
      ],
      "metadata": {
        "colab": {
          "base_uri": "https://localhost:8080/"
        },
        "id": "t4IrJ85PXV_I",
        "outputId": "38d73e15-db6e-4edb-c5f0-31ca5e6990d2"
      },
      "execution_count": null,
      "outputs": [
        {
          "output_type": "stream",
          "name": "stdout",
          "text": [
            "5\n",
            "5 x 0 = 0\n",
            "5 x 1 = 5\n",
            "5 x 2 = 10\n",
            "5 x 3 = 15\n",
            "5 x 4 = 20\n",
            "5 x 5 = 25\n",
            "5 x 6 = 30\n",
            "5 x 7 = 35\n",
            "5 x 8 = 40\n",
            "5 x 9 = 45\n",
            "5 x 10 = 50\n"
          ]
        }
      ]
    },
    {
      "cell_type": "markdown",
      "source": [
        "Utilizando estruturas de repetição escreva um programa que mostre os resultados da tabuada de multiplicação dos números entre 1 e 10, como segue.\n",
        "\n",
        "![image.png](data:image/png;base64,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)"
      ],
      "metadata": {
        "id": "UrrZKfAEOvqB"
      }
    },
    {
      "cell_type": "code",
      "source": [
        "#Exercício 47\n",
        "for x in range(1,11):\n",
        "  for y in range(1,11):\n",
        "    print(f'{x} x {y} = {x*y}')"
      ],
      "metadata": {
        "colab": {
          "base_uri": "https://localhost:8080/"
        },
        "id": "U6875kW5Ynsl",
        "outputId": "097ac28e-4ca7-449c-bcc4-1a528bc45cee"
      },
      "execution_count": null,
      "outputs": [
        {
          "output_type": "stream",
          "name": "stdout",
          "text": [
            "1 x 1 = 1\n",
            "1 x 2 = 2\n",
            "1 x 3 = 3\n",
            "1 x 4 = 4\n",
            "1 x 5 = 5\n",
            "1 x 6 = 6\n",
            "1 x 7 = 7\n",
            "1 x 8 = 8\n",
            "1 x 9 = 9\n",
            "1 x 10 = 10\n",
            "2 x 1 = 2\n",
            "2 x 2 = 4\n",
            "2 x 3 = 6\n",
            "2 x 4 = 8\n",
            "2 x 5 = 10\n",
            "2 x 6 = 12\n",
            "2 x 7 = 14\n",
            "2 x 8 = 16\n",
            "2 x 9 = 18\n",
            "2 x 10 = 20\n",
            "3 x 1 = 3\n",
            "3 x 2 = 6\n",
            "3 x 3 = 9\n",
            "3 x 4 = 12\n",
            "3 x 5 = 15\n",
            "3 x 6 = 18\n",
            "3 x 7 = 21\n",
            "3 x 8 = 24\n",
            "3 x 9 = 27\n",
            "3 x 10 = 30\n",
            "4 x 1 = 4\n",
            "4 x 2 = 8\n",
            "4 x 3 = 12\n",
            "4 x 4 = 16\n",
            "4 x 5 = 20\n",
            "4 x 6 = 24\n",
            "4 x 7 = 28\n",
            "4 x 8 = 32\n",
            "4 x 9 = 36\n",
            "4 x 10 = 40\n",
            "5 x 1 = 5\n",
            "5 x 2 = 10\n",
            "5 x 3 = 15\n",
            "5 x 4 = 20\n",
            "5 x 5 = 25\n",
            "5 x 6 = 30\n",
            "5 x 7 = 35\n",
            "5 x 8 = 40\n",
            "5 x 9 = 45\n",
            "5 x 10 = 50\n",
            "6 x 1 = 6\n",
            "6 x 2 = 12\n",
            "6 x 3 = 18\n",
            "6 x 4 = 24\n",
            "6 x 5 = 30\n",
            "6 x 6 = 36\n",
            "6 x 7 = 42\n",
            "6 x 8 = 48\n",
            "6 x 9 = 54\n",
            "6 x 10 = 60\n",
            "7 x 1 = 7\n",
            "7 x 2 = 14\n",
            "7 x 3 = 21\n",
            "7 x 4 = 28\n",
            "7 x 5 = 35\n",
            "7 x 6 = 42\n",
            "7 x 7 = 49\n",
            "7 x 8 = 56\n",
            "7 x 9 = 63\n",
            "7 x 10 = 70\n",
            "8 x 1 = 8\n",
            "8 x 2 = 16\n",
            "8 x 3 = 24\n",
            "8 x 4 = 32\n",
            "8 x 5 = 40\n",
            "8 x 6 = 48\n",
            "8 x 7 = 56\n",
            "8 x 8 = 64\n",
            "8 x 9 = 72\n",
            "8 x 10 = 80\n",
            "9 x 1 = 9\n",
            "9 x 2 = 18\n",
            "9 x 3 = 27\n",
            "9 x 4 = 36\n",
            "9 x 5 = 45\n",
            "9 x 6 = 54\n",
            "9 x 7 = 63\n",
            "9 x 8 = 72\n",
            "9 x 9 = 81\n",
            "9 x 10 = 90\n",
            "10 x 1 = 10\n",
            "10 x 2 = 20\n",
            "10 x 3 = 30\n",
            "10 x 4 = 40\n",
            "10 x 5 = 50\n",
            "10 x 6 = 60\n",
            "10 x 7 = 70\n",
            "10 x 8 = 80\n",
            "10 x 9 = 90\n",
            "10 x 10 = 100\n"
          ]
        }
      ]
    },
    {
      "cell_type": "markdown",
      "source": [
        "Em um único loop escreva um programa que mostre na tela de 1 a 10 três vezes e ao final mostre a mensagem Fim . No primeiro loop utilize for e nos dois loops seguintes while. O resultado do seu programa deverá ter o seguinte formato:"
      ],
      "metadata": {
        "id": "NOgOjJ56O1N5"
      }
    },
    {
      "cell_type": "code",
      "source": [
        "#Exercício 48\n",
        "i = 1\n",
        "for x in range(1,11):\n",
        "\n",
        "  print(x)\n",
        "  if x == 10:\n",
        "\n",
        "    while i <= 10:\n",
        "      print(i)\n",
        "      i+=1\n",
        "\n",
        "      if i == 11:\n",
        "        y = 1\n",
        "\n",
        "        while y <= 10:\n",
        "         print(y)\n",
        "         y+=1\n",
        "\n",
        "         if y == 11:\n",
        "          print('Fim')\n",
        "\n"
      ],
      "metadata": {
        "colab": {
          "base_uri": "https://localhost:8080/"
        },
        "id": "iXlcSCQYZigl",
        "outputId": "630768f7-3721-42d1-a8fd-086dbffb614a"
      },
      "execution_count": null,
      "outputs": [
        {
          "output_type": "stream",
          "name": "stdout",
          "text": [
            "1\n",
            "2\n",
            "3\n",
            "4\n",
            "5\n",
            "6\n",
            "7\n",
            "8\n",
            "9\n",
            "10\n",
            "1\n",
            "2\n",
            "3\n",
            "4\n",
            "5\n",
            "6\n",
            "7\n",
            "8\n",
            "9\n",
            "10\n",
            "1\n",
            "2\n",
            "3\n",
            "4\n",
            "5\n",
            "6\n",
            "7\n",
            "8\n",
            "9\n",
            "10\n",
            "Fim\n"
          ]
        }
      ]
    },
    {
      "cell_type": "markdown",
      "source": [
        "Escreva um programa que peça ao usuário números entre 0-10. Se o usuário inserir um número fora desse intervalo o programa deverá finalizar com uma mensagem personalizada."
      ],
      "metadata": {
        "id": "01CFC6VcO5-Z"
      }
    },
    {
      "cell_type": "code",
      "source": [
        "#Exercício 49\n",
        "num = 0\n",
        "\n",
        "while 0 <= num <= 10:\n",
        "  num = int(input('Insira um número entre 0 e 10: '))\n",
        "  if num < 0 or num > 10:\n",
        "    print('Fim do programa')\n",
        "\n"
      ],
      "metadata": {
        "colab": {
          "base_uri": "https://localhost:8080/"
        },
        "id": "rtKcIzDfdg75",
        "outputId": "51431941-74dd-49c1-9417-12a153dba344"
      },
      "execution_count": null,
      "outputs": [
        {
          "output_type": "stream",
          "name": "stdout",
          "text": [
            "Insira um número entre 0 e 10: 2\n",
            "Insira um número entre 0 e 10: 2\n",
            "Insira um número entre 0 e 10: 1\n",
            "Insira um número entre 0 e 10: 11\n",
            "Fim do programa\n"
          ]
        }
      ]
    },
    {
      "cell_type": "markdown",
      "source": [
        "Escreva um programa que peça ao usuário números entre 0-10. Se o usuário inserir um número fora desse intervalo o programa deverá finalizar com uma mensagem personalizada."
      ],
      "metadata": {
        "id": "r8kM52EuPAoc"
      }
    },
    {
      "cell_type": "code",
      "source": [
        "#Exercício 50\n",
        "for i in range(0,6):\n",
        "    print(i)\n",
        "\n",
        "    if i==5:\n",
        "        for j in range(0,6):\n",
        "            print(j)\n",
        "\n",
        "            if j==5:\n",
        "                for k in range(0,6):\n",
        "                    print(k)\n",
        "\n",
        "                    if k==5:\n",
        "                        for l in range(0,6):\n",
        "                            print(l)\n",
        "\n",
        "                            if l==5:\n",
        "                                for m in range(0,6):\n",
        "                                    print(m)\n",
        "\n",
        "                                    if m==5:\n",
        "                                        print('Fim')"
      ],
      "metadata": {
        "colab": {
          "base_uri": "https://localhost:8080/"
        },
        "id": "XkeDg3Vsfwhp",
        "outputId": "197748be-ac3c-49b4-d349-c32e0650d78a"
      },
      "execution_count": null,
      "outputs": [
        {
          "output_type": "stream",
          "name": "stdout",
          "text": [
            "0\n",
            "1\n",
            "2\n",
            "3\n",
            "4\n",
            "5\n",
            "0\n",
            "1\n",
            "2\n",
            "3\n",
            "4\n",
            "5\n",
            "0\n",
            "1\n",
            "2\n",
            "3\n",
            "4\n",
            "5\n",
            "0\n",
            "1\n",
            "2\n",
            "3\n",
            "4\n",
            "5\n",
            "0\n",
            "1\n",
            "2\n",
            "3\n",
            "4\n",
            "5\n",
            "Fim\n"
          ]
        }
      ]
    },
    {
      "cell_type": "markdown",
      "source": [
        "Desenvolva um programa de calculadora simples, que seja capaz de tratar exceções como, por exemplo, divisão por zero. No caso de uma divisão por zero, o programa deve informar o usuário e permitir que o mesmo insira outro denominador."
      ],
      "metadata": {
        "id": "H-sZjcCxPCsc"
      }
    },
    {
      "cell_type": "code",
      "source": [
        "#Exercício Extra\n",
        "operador = input('Digite um operador: ')\n",
        "\n",
        "if operador in ['+','-','*','/']:\n",
        " num1 = float(input(\"Digite o primeiro número: \"))\n",
        " num2 = float(input(\"Digite o segundo número: \"))\n",
        " if operador == '+':\n",
        "  print(f'{num1} + {num2} = {num1+num2}')\n",
        " elif operador == '-':\n",
        "  print(f'{num1} - {num2} = {num1-num2}')\n",
        " elif operador == '*':\n",
        "  print(f'{num1} * {num2} = {num1*num2}')\n",
        " else:\n",
        "  try:\n",
        "    print(f'{num1} / {num2} = {num1/num2}')\n",
        "  except:\n",
        "    while num2 == 0:\n",
        "     print('Em uma divisão o numerador não pode ser zero!')\n",
        "     num2 = float(input('Digite o numerador: '))\n",
        "     print(f'{num1} / {num2} = {num1/num2}')\n",
        "else:\n",
        "  print('Opção inválida')\n"
      ],
      "metadata": {
        "colab": {
          "base_uri": "https://localhost:8080/"
        },
        "id": "bYdf4_ExgyQb",
        "outputId": "51f90919-781c-4feb-cc6a-21f3e93193f3"
      },
      "execution_count": null,
      "outputs": [
        {
          "output_type": "stream",
          "name": "stdout",
          "text": [
            "Digite um operador: /\n",
            "Digite o primeiro número: 2\n",
            "Digite o segundo número: 0\n",
            "Em uma divisão o numerador não pode ser zero!\n",
            "Digite o numerador: 1\n",
            "2.0 / 1.0 = 2.0\n"
          ]
        }
      ]
    }
  ]
}